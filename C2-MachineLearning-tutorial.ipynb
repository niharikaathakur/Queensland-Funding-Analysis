{
 "cells": [
  {
   "attachments": {},
   "cell_type": "markdown",
   "id": "319899bc-3fc3-4e1a-8c26-2990db3b9c34",
   "metadata": {
    "cell_name": "header_cell"
   },
   "source": [
    "<div style=\"background:#E9FFF6; color:#440404; padding:8px; border-radius: 4px; text-align: center; font-weight: 500;\">IFN619 - Data Analytics for Strategic Decision Makers (2024_sem1)</div>"
   ]
  },
  {
   "attachments": {},
   "cell_type": "markdown",
   "id": "bf483340-54bb-4181-86ae-e410f1efbb7a",
   "metadata": {
    "cell_name": "title_cell"
   },
   "source": [
    "# IFN619 :: C2 - Machine Learning - Tutorial\n",
    "\n",
    "Ensure that you have worked through the studio notebook before doing this tutorial, as the exercises below will build on what you did in the studio notebook."
   ]
  },
  {
   "cell_type": "code",
   "execution_count": 37,
   "id": "4708f59f",
   "metadata": {},
   "outputs": [],
   "source": [
    "from sklearn.preprocessing import minmax_scale\n",
    "\n",
    "from sklearn.cluster import KMeans\n",
    "from sklearn.linear_model import LinearRegression\n",
    "from sklearn.linear_model import LogisticRegression\n",
    "\n",
    "from sklearn.model_selection import train_test_split\n",
    "from sklearn.metrics import mean_squared_error, r2_score\n",
    "from sklearn.preprocessing import StandardScaler\n",
    "from sklearn.preprocessing import LabelEncoder\n",
    "from sklearn.metrics import confusion_matrix\n",
    "from sklearn.metrics import classification_report\n",
    "\n",
    "import pandas as pd\n",
    "import plotly.express as px\n"
   ]
  },
  {
   "attachments": {},
   "cell_type": "markdown",
   "id": "2965232a",
   "metadata": {},
   "source": [
    "### K-means algorithm Exercises\n",
    "\n",
    "1. Load the [Queensland Ambulance Service Locations and Coordinates Data](https://data.qld.gov.au/dataset/679424b4-ccf8-46cd-8e0b-f16c49572dbb) into a dataframe\n",
    "2. Load the data into a dataframe\n",
    "3. Perform a k-means clustering based on coordinates (start with 2 clusters)\n",
    "4. Visualise on a map (check out [Scatter plots on mapbox in Python](https://plotly.com/python/scattermapbox/))\n",
    "5. Try increasing the number of clusters to identify potentially meaningful groupings\n",
    "\n"
   ]
  },
  {
   "cell_type": "code",
   "execution_count": 1,
   "id": "192f78b4",
   "metadata": {},
   "outputs": [],
   "source": [
    "# Load the data\n"
   ]
  },
  {
   "attachments": {},
   "cell_type": "markdown",
   "id": "40e2b0d8",
   "metadata": {},
   "source": [
    "### Linear Regression algorithm\n",
    "\n",
    "1. Load the [Great Barrier Reef Carbon Dioxide Measurements](https://www.csiro.au/en/education/Resources/Educational-datasets/GBR-Carbon-Study) data located in the data folder (name gbr.csv)\n",
    "2. Perform linear regression to predict CO2\n",
    "3. Experiment with predictions (increase the temperature to see what happens)\n"
   ]
  },
  {
   "cell_type": "code",
   "execution_count": 2,
   "id": "beb8fc85",
   "metadata": {},
   "outputs": [],
   "source": [
    "#Load the data"
   ]
  },
  {
   "attachments": {},
   "cell_type": "markdown",
   "id": "71df6264",
   "metadata": {},
   "source": [
    "### Logistic Regression algorithm\n",
    "\n",
    "1. Load the [Thyroid sickness determination dataset](https://www.kaggle.com/datasets/bidemiayinde/thyroid-sickness-determination) data located in the data folder (name health.csv)\n",
    "2. Perform logistic regression to predic the class variable (There is a thyroid sickness or not)\n",
    "3. Change features to improve classification\n",
    "4. Experiment with predictions\n"
   ]
  },
  {
   "cell_type": "code",
   "execution_count": 3,
   "id": "9ddb5c3c",
   "metadata": {},
   "outputs": [],
   "source": [
    "# Load the data"
   ]
  }
 ],
 "metadata": {
  "creation_period": "",
  "kernelspec": {
   "display_name": "Python 3 (ipykernel)",
   "language": "python",
   "name": "python3"
  },
  "language_info": {
   "codemirror_mode": {
    "name": "ipython",
    "version": 3
   },
   "file_extension": ".py",
   "mimetype": "text/x-python",
   "name": "python",
   "nbconvert_exporter": "python",
   "pygments_lexer": "ipython3",
   "version": "3.10.13"
  },
  "nb_name": "template",
  "qut": {
   "creation_period": "2023_sem1",
   "nb_name": "C4-MachineLearning-tutorial",
   "unit_code": "IFN619"
  },
  "unit_code": ""
 },
 "nbformat": 4,
 "nbformat_minor": 5
}
